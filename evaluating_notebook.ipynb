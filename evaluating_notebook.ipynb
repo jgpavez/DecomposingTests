{
 "cells": [
  {
   "cell_type": "markdown",
   "metadata": {},
   "source": [
    "## Evaluating Approximated Ratios\n",
    "\n",
    "In order to evaluate the quality of the approximated ratios we can use the fact that \n",
    "$$\\frac{p(x|\\theta_1)}{p(x|\\theta_0)}\\cdot p(x|\\theta_0) = p(x|\\theta_1)$$\n",
    "The algorithms works as follow:\n",
    " 1. Compute the approximated density ratios for $p(x|\\theta_1)$ and $p(x|\\theta_0)$.\n",
    " 2. Compute the values of the ratio $p(s(x)|\\theta_1)/p(s(x)|\\theta_0)$ for data $\\in \\theta_0$.\n",
    " 3. Resample the data $\\in \\theta_0$ using the ratio values as weight.\n",
    " 4. Train a classifier to separate between data $\\in \\theta_1$ and the resampled dataset. Is expected that the classifier will works badly if the original data and the resampled data follows the same distribution. This only happens if the density ratios are being approximated correctly.\n",
    " 5. Evaluate the ROC curves of the classifier in the data. AUC = 0.5 means that the density ratios were approximated correcly. Better AUC show that the approximation is bad.\n",
    " \n",
    "In what follows we will show how to compute and evaluate the approximated density ratios."
   ]
  },
  {
   "cell_type": "code",
   "execution_count": 333,
   "metadata": {
    "collapsed": false
   },
   "outputs": [],
   "source": [
    "import ROOT\n",
    "from sklearn.metrics import roc_curve, auc\n",
    "from sklearn.ensemble import GradientBoostingClassifier\n",
    "from sklearn import cross_validation\n",
    "from xgboost_wrapper import XGBoostClassifier\n",
    "from sklearn.externals import joblib\n",
    "import matplotlib.pyplot as plt\n",
    "\n",
    "from mlp import make_predictions, train_mlp\n",
    "from utils import printFrame,makePlotName,makeSigBkg,saveFig, makeROC\n",
    "import pdb\n",
    "from xgboost_wrapper import XGBoostClassifier\n",
    "\n",
    "import numpy as np\n",
    "\n",
    "import os\n",
    "\n",
    "%matplotlib inline"
   ]
  },
  {
   "cell_type": "markdown",
   "metadata": {},
   "source": [
    "Setting some global variables (features, classifier used to approximate the ratios)."
   ]
  },
  {
   "cell_type": "code",
   "execution_count": 334,
   "metadata": {
    "collapsed": false
   },
   "outputs": [],
   "source": [
    "workspace_file = 'workspace_evaluating.root'\n",
    "#vars_g = ['x']\n",
    "vars_g = ['x0','x1','x2','x3','x4','x5','x6','x7','x8','x9']\n",
    "dir='evaluating'\n",
    "model_g='xgboost'\n",
    "epochs_training = 50\n",
    "clf = XGBoostClassifier(num_class=2, nthread=4, silent=1,\n",
    "          num_boost_round=epochs_training, eta=0.5, max_depth=3)\n",
    "verbose_printing=False"
   ]
  },
  {
   "cell_type": "markdown",
   "metadata": {},
   "source": [
    "Define the models from where the data will be sampled. In this case 2 multivariate normal distributions."
   ]
  },
  {
   "cell_type": "code",
   "execution_count": 335,
   "metadata": {
    "collapsed": false
   },
   "outputs": [
    {
     "name": "stdout",
     "output_type": "stream",
     "text": [
      "Generating initial distributions\n"
     ]
    }
   ],
   "source": [
    "mu_l = []\n",
    "cov_l = []\n",
    "\n",
    "mu_l.append([5.,5.,4.,3.,5.,5.,4.5,2.5,4.,3.5])\n",
    "#mu_g.append([7.,8.,7.,6.,7.,8.,6.5,5.5,7.,6.5])\n",
    "mu_l.append([4.,4.5,3.6,4.,6.,4.5,4.2,2.2,4.1,3.3])\n",
    "mu_l.append([1.,0.5,0.3,0.5,0.6,0.4,0.1,0.2,0.1,0.3])\n",
    "\n",
    "cov_l.append([[3.,0.,0.,0.,0.,0.,0.,0.,0.,0.],\n",
    "         [0.,2.,0.,0.,0.,0.,0.,0.,0.,0.],\n",
    "         [0.,0.,14.,0.,0.,0.,0.,0.,0.,0.],\n",
    "         [0.,0.,0.,6.,0.,0.,0.,0.,0.,0.],\n",
    "         [0.,0.,0.,0.,17.,0.,0.,0.,0.,0.],\n",
    "         [0.,0.,0.,0.,0.,10.,0.,0.,0.,0.],\n",
    "         [0.,0.,0.,0.,0.,0.,5.,0.,0.,0.],\n",
    "         [0.,0.,0.,0.,0.,0.,0.,1.3,0.,0.],\n",
    "         [0.,0.,0.,0.,0.,0.,0.,0.,1.,0.],\n",
    "         [0.,0.,0.,0.,0.,0.,0.,0.,0.,9.3]])\n",
    "cov_l.append([[3.5,0.,0.,0.,0.,0.,0.,0.,0.,0.],\n",
    "         [0.,3.5,0.,0.,0.,0.,0.,0.,0.,0.],\n",
    "         [0.,0.,9.5,0.,0.,0.,0.,0.,0.,0.],\n",
    "         [0.,0.,0.,7.2,0.,0.,0.,0.,0.,0.],\n",
    "         [0.,0.,0.,0.,4.5,0.,0.,0.,0.,0.],\n",
    "         [0.,0.,0.,0.,0.,4.5,0.,0.,0.,0.],\n",
    "         [0.,0.,0.,0.,0.,0.,8.2,0.,0.,0.],\n",
    "         [0.,0.,0.,0.,0.,0.,0.,9.5,3.,0.],\n",
    "         [0.,0.,0.,0.,0.,0.,0.,0.,3.5,0.],\n",
    "         [0.,0.,0.,0.,0.,0.,0.,0.,0.,4.5]])\n",
    "cov_l.append([[13.,0.,0.,0.,0.,0.,0.,0.,0.,0.],\n",
    "         [0.,12.,0.,0.,0.,0.,0.,0.,0.,0.],\n",
    "         [0.,0.,14.,0.,0.,0.,0.,0.,0.,0.],\n",
    "         [0.,0.,0.,6.,0.,0.,0.,0.,0.,0.],\n",
    "         [0.,0.,0.,0.,1.,0.,0.,0.,0.,0.],\n",
    "         [0.,0.,0.,0.,0.,10.,0.,0.,0.,0.],\n",
    "         [0.,0.,0.,0.,0.,0.,15.,0.,0.,0.],\n",
    "         [0.,0.,0.,0.,0.,0.,0.,6.3,0.,0.],\n",
    "         [0.,0.,0.,0.,0.,0.,0.,0.,11.,0.],\n",
    "         [0.,0.,0.,0.,0.,0.,0.,0.,0.,1.3]])\n",
    "# Statistical model\n",
    "w = ROOT.RooWorkspace('w')\n",
    "\n",
    "print 'Generating initial distributions'\n",
    "cov_m = []\n",
    "mu_m = []\n",
    "mu_str = []\n",
    "cov_root = []\n",
    "vec = []\n",
    "argus = ROOT.RooArgList()\n",
    "#features\n",
    "for i,var in enumerate(vars_g):\n",
    "    w.factory('{0}[{1},{2}]'.format(var,-25,30))\n",
    "    argus.add(w.var(var))\n",
    "\n",
    "for glob in range(2):\n",
    "    # generate covariance matrix\n",
    "    cov_m.append(np.matrix(cov_l[glob]))\n",
    "    cov_root.append(ROOT.TMatrixDSym(len(vars_g)))\n",
    "    for i,var1 in enumerate(vars_g):\n",
    "      for j,var2 in enumerate(vars_g):\n",
    "        cov_root[-1][i][j] = cov_m[-1][i,j]\n",
    "    getattr(w,'import')(cov_root[-1],'cov{0}'.format(glob))\n",
    "    # generate mu vector\n",
    "    mu_m.append(np.array(mu_l[glob]))\n",
    "    vec.append(ROOT.TVectorD(len(vars_g)))\n",
    "    for i, mu in enumerate(mu_m[-1]):\n",
    "      vec[-1][i] = mu\n",
    "    mu_str.append(','.join([str(mu) for mu in mu_m[-1]]))\n",
    "    # multivariate gaussian\n",
    "    gaussian = ROOT.RooMultiVarGaussian('f{0}'.format(glob),\n",
    "          'f{0}'.format(glob),argus,vec[-1],cov_root[-1])\n",
    "    getattr(w,'import')(gaussian)\n",
    "  # Check Model\n",
    "w.Print()\n",
    "\n",
    "\n",
    "if verbose_printing == True:\n",
    "    printFrame(w,['x0','x1','x7','x8'],[w.pdf('f0'),w.pdf('f1')],'distributions',['f0','f1']\n",
    "    ,dir=dir,model_g=model_g,range=[-15,20],title='Distributions',x_text='x0',y_text='p(x)',print_pdf=True)\n",
    "\n"
   ]
  },
  {
   "cell_type": "markdown",
   "metadata": {},
   "source": [
    "Sampling data from the distributions."
   ]
  },
  {
   "cell_type": "code",
   "execution_count": 336,
   "metadata": {
    "collapsed": false
   },
   "outputs": [
    {
     "name": "stdout",
     "output_type": "stream",
     "text": [
      "Making Data\n"
     ]
    },
    {
     "data": {
      "text/plain": [
       "[]"
      ]
     },
     "execution_count": 336,
     "metadata": {},
     "output_type": "execute_result"
    },
    {
     "data": {
      "image/png": "[encoded data removed]",
      "text/plain": [
       "<matplotlib.figure.Figure at 0x1596df90>"
      ]
     },
     "metadata": {},
     "output_type": "display_data"
    }
   ],
   "source": [
    "# Start generating data\n",
    "num_train = 10000\n",
    "num_test = 5000\n",
    "no_train = False\n",
    "\n",
    "print 'Making Data'\n",
    "# Start generating data\n",
    "\n",
    "   \n",
    "# make data from root pdf\n",
    "def makeDataFi(x, pdf, num):\n",
    "    traindata = np.zeros((num,len(vars_g))) \n",
    "    data = pdf.generate(x,num)\n",
    "    traindata[:] = [[data.get(i).getRealValue(var) for var in vars_g]\n",
    "        for i in range(num)]\n",
    "    return traindata\n",
    "  \n",
    "  # features\n",
    "vars = ROOT.TList()\n",
    "for var in vars_g:\n",
    "    vars.Add(w.var(var))\n",
    "x = ROOT.RooArgSet(vars)\n",
    "\n",
    "\n",
    "train_data = np.zeros((num_train*2,len(vars_g) + 1))\n",
    "test_data = np.zeros((num_test*2,len(vars_g) + 1))\n",
    "\n",
    "if not no_train:\n",
    "    #traindata[:num_train,0] =  makeDataFi(x,w.pdf('f0'), num_train).reshape(num_train)\n",
    "\n",
    "    #traindata[num_train:,0] = makeDataFi(x,w.pdf('f1'), num_train).reshape(num_train)\n",
    "    data_f0 =  makeDataFi(x,w.pdf('f0'), num_train)\n",
    "    data_f1 = makeDataFi(x,w.pdf('f1'), num_train)\n",
    "\n",
    "    train_data[:num_train,:len(vars_g)] =  data_f0\n",
    "\n",
    "    train_data[num_train:,:len(vars_g)] = data_f1\n",
    " \n",
    "    train_data[:num_train,-1] = np.ones(num_train)\n",
    "\n",
    "#testdata[:num_test,0] = makeDataFi(x, w.pdf('f0'), num_test).reshape(num_test)\n",
    "#testdata[num_test:,0] = makeDataFi(x, w.pdf('f1'), num_test).reshape(num_test)\n",
    "test_data[:num_test,:len(vars_g)] =  makeDataFi(x,w.pdf('f0'), num_test)\n",
    "\n",
    "test_data[num_test:,:len(vars_g)] = makeDataFi(x,w.pdf('f1'), num_test)\n",
    "\n",
    "test_data[num_test:,-1] = np.ones(num_test)\n",
    "\n",
    "plt.hist(data_f0[:,0],bins=50)\n",
    "plt.hist(data_f1[:,0],bins=50)\n",
    "plt.plot()\n"
   ]
  },
  {
   "cell_type": "markdown",
   "metadata": {},
   "source": [
    "Tran classifiers on the sampled data"
   ]
  },
  {
   "cell_type": "code",
   "execution_count": 337,
   "metadata": {
    "collapsed": false
   },
   "outputs": [
    {
     "name": "stdout",
     "output_type": "stream",
     "text": [
      "Accuracy: 2.48780288791 (+/- 0.0376371854507)\n"
     ]
    }
   ],
   "source": [
    "\n",
    "model_file = 'train'\n",
    "traindata = train_data[:,:-1]\n",
    "targetdata = train_data[:,-1]\n",
    "if model_g == 'mlp':\n",
    "    train_mlp((traindata, targetdata), save_file='{0}/{1}_F0_F1.pkl'.format(dir,model_file),n_epochs=epochs_training)\n",
    "else:\n",
    "    rng = np.random.RandomState(1234)\n",
    "    indices = rng.permutation(traindata.shape[0])\n",
    "    traindata_random = traindata[indices]\n",
    "    targetdata_random = targetdata[indices]\n",
    "    scores = cross_validation.cross_val_score(clf, traindata_random, targetdata_random)\n",
    "    print \"Accuracy: {0} (+/- {1})\".format(scores.mean(), scores.std() * 2)\n",
    "    clf.fit(traindata_random,targetdata_random)\n",
    "    #clf.plot_importance_matrix(vars_names)\n",
    "    joblib.dump(clf, '{0}/{1}_F0_F1.pkl'.format(dir,model_file))\n"
   ]
  },
  {
   "cell_type": "code",
   "execution_count": 338,
   "metadata": {
    "collapsed": true
   },
   "outputs": [],
   "source": [
    "# Prediction function \n",
    "def predict(filename, traindata,model_g='mlp', sig=1):\n",
    "  sfilename,k,j = filename.split('/')[-1].split('_')\n",
    "  sfilename = '/'.join(filename.split('/')[:-1]) + '/' +  sfilename\n",
    "  j = j.split('.')[0]\n",
    "  sig = 1\n",
    "  if k <> 'F0':\n",
    "    k = int(k)\n",
    "    j = int(j)\n",
    "    sig = 1 if k < j else 0\n",
    "    filename = '{0}_{1}_{2}.pkl'.format(sfilename,min(k,j),max(k,j))\n",
    "  if model_g == 'mlp':\n",
    "    return make_predictions(dataset=traindata, model_file=filename)[:,sig]\n",
    "  else:\n",
    "    clf = joblib.load(filename)\n",
    "    if clf.__class__.__name__ == 'NuSVR':\n",
    "      output = clf.predict(traindata)\n",
    "      return np.clip(output,0.,1.)\n",
    "    else:\n",
    "      return clf.predict_proba(traindata)[:,sig]\n"
   ]
  },
  {
   "cell_type": "markdown",
   "metadata": {},
   "source": [
    "Compute score distributions."
   ]
  },
  {
   "cell_type": "code",
   "execution_count": 339,
   "metadata": {
    "collapsed": false
   },
   "outputs": [
    {
     "name": "stdout",
     "output_type": "stream",
     "text": [
      "Generating Score Histograms\n",
      "Estimating F0 F1\n"
     ]
    }
   ],
   "source": [
    "\n",
    "bins = 80\n",
    "low = 0.\n",
    "high = 1.  \n",
    "c1_g=''\n",
    "  \n",
    "print 'Generating Score Histograms'\n",
    "\n",
    "w.factory('score[{0},{1}]'.format(low,high))\n",
    "s = w.var('score')\n",
    "  \n",
    "def saveHisto(w,outputs,s,bins,low,high,k='F0',j='F1'):\n",
    "    \n",
    "    print 'Estimating {0} {1}'.format(k,j)\n",
    "    for l,name in enumerate(['sig','bkg']):\n",
    "      data = ROOT.RooDataSet('{0}data_{1}_{2}'.format(name,k,j),\"data\",\n",
    "          ROOT.RooArgSet(s))\n",
    "      hist = ROOT.TH1F('{0}hist_{1}_{2}'.format(name,k,j),'hist',bins,low,high)\n",
    "      values = outputs[l]\n",
    "      #values = values[self.findOutliers(values)]\n",
    "      for val in values:\n",
    "        hist.Fill(val)\n",
    "        s.setVal(val)\n",
    "        data.add(ROOT.RooArgSet(s))\n",
    "      norm = 1./hist.Integral()\n",
    "      hist.Scale(norm) \n",
    "        \n",
    "      s.setBins(bins)\n",
    "      datahist = ROOT.RooDataHist('{0}datahist_{1}_{2}'.format(name,k,j),'hist',\n",
    "            ROOT.RooArgList(s),hist)\n",
    "      histpdf = ROOT.RooHistFunc('{0}histpdf_{1}_{2}'.format(name,k,j),'hist',\n",
    "            ROOT.RooArgSet(s), datahist, 1)\n",
    "\n",
    "      getattr(w,'import')(hist)\n",
    "      getattr(w,'import')(data)\n",
    "      getattr(w,'import')(datahist) # work around for morph = w.import(morph)\n",
    "      getattr(w,'import')(histpdf) # work around for morph = w.import(morph)\n",
    "      score_str = 'score'\n",
    "      # Calculate the density of the classifier output using kernel density \n",
    "      #w.factory('KeysPdf::{0}dist_{1}_{2}({3},{0}data_{1}_{2},RooKeysPdf::NoMirror,2)'.format(name,k,j,score_str))\n",
    "\n",
    "\n",
    "numtrain = traindata.shape[0]       \n",
    "\n",
    "outputs = [predict('{0}/{1}_F0_F1.pkl'.format(dir,model_file),traindata[targetdata==1],model_g=model_g),\n",
    "            predict('{0}/{1}_F0_F1.pkl'.format(dir,model_file),traindata[targetdata==0],model_g=model_g)]\n",
    "\n",
    "saveHisto(w,outputs,s, bins, low, high)\n",
    "\n",
    "if verbose_printing == True:\n",
    "    can = printFrame(w,['score'],[w.function('sighistpdf_F0_F1'),w.function('bkghistpdf_F0_F1')], makePlotName('full','all',type='hist',dir=dir,c1_g=c1_g,model_g=model_g),['signal','bkg'],\n",
    "  dir=dir,model_g=model_g,y_text='score(x)',print_pdf=True,title='Pairwise score distributions',use_rootnotes=False)\n"
   ]
  },
  {
   "cell_type": "code",
   "execution_count": 340,
   "metadata": {
    "collapsed": true
   },
   "outputs": [],
   "source": [
    "def findOutliers(x):\n",
    "  q5, q95 = np.percentile(x, [5,95])  \n",
    "  iqr = 2.*(q95 - q5)\n",
    "  outliers = (x <= q95 + iqr) & (x >= q5 - iqr)\n",
    "  return outliers\n",
    "def singleRatio(f0,f1):\n",
    "  ratio = f1 / f0\n",
    "  ratio[np.abs(ratio) == np.inf] = 0 \n",
    "  ratio[np.isnan(ratio)] = 0\n",
    "  return ratio\n",
    "\n",
    "def evalDist(x,f0,val):\n",
    "  iter = x.createIterator()\n",
    "  v = iter.Next()\n",
    "  i = 0\n",
    "  while v:\n",
    "    v.setVal(val[i])\n",
    "    v = iter.Next()\n",
    "    i = i+1\n",
    "  return f0.getVal(x)"
   ]
  },
  {
   "cell_type": "markdown",
   "metadata": {},
   "source": [
    "Compute approximated density ratios and do reweighting."
   ]
  },
  {
   "cell_type": "code",
   "execution_count": 341,
   "metadata": {
    "collapsed": false
   },
   "outputs": [
    {
     "name": "stdout",
     "output_type": "stream",
     "text": [
      "Calculating ratios\n"
     ]
    },
    {
     "data": {
      "text/plain": [
       "[]"
      ]
     },
     "execution_count": 341,
     "metadata": {},
     "output_type": "execute_result"
    },
    {
     "data": {
      "image/png": "[encoded data removed]",
      "text/plain": [
       "<matplotlib.figure.Figure at 0x174bf6d0>"
      ]
     },
     "metadata": {},
     "output_type": "display_data"
    }
   ],
   "source": [
    "\n",
    "print 'Calculating ratios'\n",
    "true_dist = True\n",
    "npoints = 50\n",
    "\n",
    "score = ROOT.RooArgSet(w.var('score'))\n",
    "getRatio = singleRatio\n",
    "\n",
    "# NN trained on complete model\n",
    "F0pdf = w.function('bkghistpdf_F0_F1')\n",
    "F1pdf = w.function('sighistpdf_F0_F1')\n",
    "\n",
    "\n",
    "# Transforming f1 into f0\n",
    "data_f1 = train_data[train_data[:,-1] == 0.]\n",
    "data_f0 = train_data[train_data[:,-1] == 1.]\n",
    "xarray = data_f1[:,:-1]\n",
    "testtarget = data_f1[:,-1]\n",
    "\n",
    "outputs = predict('{0}/{1}_F0_F1.pkl'.format(dir,model_file),xarray,model_g=model_g)\n",
    "\n",
    "F1fulldist = np.array([evalDist(score,F1pdf,[xs]) for xs in outputs])\n",
    "F0fulldist = np.array([evalDist(score,F0pdf,[xs]) for xs in outputs])\n",
    "\n",
    "completeRatio = getRatio(F0fulldist,F1fulldist)\n",
    "\n",
    "if len(vars_g) == 1:\n",
    "    F1dist = np.array([evalDist(x,w.pdf('f1'),[xs]) for xs in xarray])\n",
    "    F0dist = np.array([evalDist(x,w.pdf('f0'),[xs]) for xs in xarray])\n",
    "else:\n",
    "    F1dist = np.array([evalDist(x,w.pdf('f1'),xs) for xs in xarray])\n",
    "    F0dist = np.array([evalDist(x,w.pdf('f0'),xs) for xs in xarray])\n",
    "\n",
    "trueRatio = getRatio(F1dist, F0dist)\n",
    "\n",
    "#trueIndexes = findOutliers(trueRatio)\n",
    "#completeIndexes = findOutliers(completeRatio)\n",
    "#indexes = np.logical_and(trueIndexes,completeIndexes)\n",
    "#trueRatio = trueRatio[indexes]\n",
    "#completeRatio = completeRatio[indexes]\n",
    "#data_f1_red = data_f1[indexes]\n",
    "data_f1_red = data_f1\n",
    "\n",
    "bins = 50\n",
    "feature = 7\n",
    "x_range = (-10.,10.)\n",
    "# Transfering distributions\n",
    "# Doing histogram manipulation\n",
    "fig,ax = plt.subplots()\n",
    "colors = ['b-','r-','k-']\n",
    "colors_rgb = ['blue','red','black']\n",
    "    \n",
    "hist,bins = np.histogram(data_f1[:,feature],bins=bins, range=x_range,density=True)\n",
    "\n",
    "\n",
    "hist_transfered,bins_1 = np.histogram(data_f1_red[:,feature],weights=trueRatio,bins=bins, range=x_range,density=True)\n",
    "hist_transfered_clf,bins_2 = np.histogram(data_f1_red[:,feature],bins=bins,weights=completeRatio, range=x_range,density=True)\n",
    "hist0,bins0 = np.histogram(data_f0[:,feature], bins=bins, range=x_range,density=True)\n",
    "\n",
    "widths = np.diff(bins)\n",
    "\n",
    "ax.bar(bins[:-1], hist0,widths,label='f0',alpha=0.5,color='red')\n",
    "ax.bar(bins[:-1], hist,widths,label='f1',alpha=0.5,color='yellow')\n",
    "ax.bar(bins[:-1], hist_transfered,widths,label='f1 weighted (true)',\n",
    "    alpha=0.5,color='blue')\n",
    "ax.bar(bins[:-1], hist_transfered_clf,widths,label='f1 weighted (trained)',\n",
    "        alpha=0.5,color='green')\n",
    "\n",
    "ax.legend(frameon=False,fontsize=11)\n",
    "ax.set_xlabel('x') \n",
    "ax.set_ylabel('p(x)') \n",
    "if len(vars_g) > 1:\n",
    "    ax.set_title('Weighted distributions feature {0}'.format(feature))\n",
    "else:\n",
    "    ax.set_title('Weighted distributions')\n",
    "file_plot =  makePlotName('all','transf',type='hist_v{0}'.format(feature),model_g=model_g) \n",
    "fig.savefig('{0}/plots/{1}/{2}.png'.format(dir,model_g,file_plot))\n",
    "\n",
    "#saveFig(xarray, [true_transfer, data_f0[:,0]], makePlotName('all','transf',type='hist'),title='Transfered distribution',labels=['Transfer True', 'Truth'],hist=True, print_pdf=True,dir=dir)\n",
    "plt.plot()"
   ]
  },
  {
   "cell_type": "markdown",
   "metadata": {
    "collapsed": false
   },
   "source": [
    "Resampling data from f1 using the ratios as weights"
   ]
  },
  {
   "cell_type": "code",
   "execution_count": 342,
   "metadata": {
    "collapsed": false
   },
   "outputs": [
    {
     "data": {
      "text/plain": [
       "<matplotlib.legend.Legend at 0x15d545d0>"
      ]
     },
     "execution_count": 342,
     "metadata": {},
     "output_type": "execute_result"
    },
    {
     "data": {
      "image/png": "[encoded data removed]",
      "text/plain": [
       "<matplotlib.figure.Figure at 0x174ce450>"
      ]
     },
     "metadata": {},
     "output_type": "display_data"
    }
   ],
   "source": [
    "# Weighting with approximated densities\n",
    "ratio_norm = completeRatio / completeRatio.sum()\n",
    "#ratio_norm = trueRatio/trueRatio.sum()\n",
    "data_f1_idx = np.random.choice(range(data_f1.shape[0]),data_f1.shape[0],p=ratio_norm)\n",
    "data_f1_re_clf = data_f1[data_f1_idx]\n",
    "traindata_weighted_clf = traindata.copy()\n",
    "traindata_weighted_clf[targetdata==0] = data_f1_re_clf[:,:-1]\n",
    "# Weighting with true densities\n",
    "ratio_norm = trueRatio / trueRatio.sum()\n",
    "data_f1_idx = np.random.choice(range(data_f1.shape[0]),data_f1.shape[0],p=ratio_norm)\n",
    "data_f1_re_true = data_f1[data_f1_idx]\n",
    "traindata_weighted_true = traindata.copy()\n",
    "traindata_weighted_true[targetdata==0] = data_f1_re_true[:,:-1]\n",
    "#traindata[targetdata == 0] = data_f0[:,:-1]\n",
    "plt.hist(data_f0[:,feature],label='f0',alpha=0.5,bins=bins,range=x_range)\n",
    "plt.hist(data_f1[:,feature],label='f1',alpha=0.5,bins=bins,range=x_range)\n",
    "plt.hist(data_f1_re_clf[:,feature],label='weighted f1',alpha=0.5,bins=bins,range=x_range)\n",
    "plt.legend()\n"
   ]
  },
  {
   "cell_type": "markdown",
   "metadata": {},
   "source": [
    "Evaluate the approximation by training a classifier to classify between the weighted data and the original"
   ]
  },
  {
   "cell_type": "code",
   "execution_count": 343,
   "metadata": {
    "collapsed": false
   },
   "outputs": [
    {
     "name": "stdout",
     "output_type": "stream",
     "text": [
      "Accuracy: 1.55895818379 (+/- 0.00834315346216)\n",
      "Trained\n"
     ]
    }
   ],
   "source": [
    "xgb = XGBoostClassifier(num_class=2, nthread=4, silent=1,\n",
    "          num_boost_round=50, eta=0.1, max_depth=3)\n",
    "rng = np.random.RandomState(1234)\n",
    "indices = rng.permutation(traindata.shape[0])\n",
    "traindata = traindata[indices]\n",
    "targetdata = targetdata[indices]\n",
    "traindata_weighted_clf = traindata_weighted_clf[indices]\n",
    "traindata_weighted_true = traindata_weighted_true[indices]\n",
    "scores = cross_validation.cross_val_score(xgb, traindata_weighted_clf, targetdata)\n",
    "print \"Accuracy: {0} (+/- {1})\".format(scores.mean(), scores.std() * 2)\n",
    "xgb.fit(traindata_weighted_clf,targetdata)\n",
    "predictions_weighted_clf = xgb.predict_proba(traindata_weighted_clf)[:,1]\n",
    "xgb.fit(traindata_weighted_true,targetdata)\n",
    "predictions_weighted_true = xgb.predict_proba(traindata_weighted_clf)[:,1]\n",
    "xgb.fit(traindata,targetdata)\n",
    "predictions = xgb.predict_proba(traindata)[:,1]\n",
    "print 'Trained'\n",
    "# Fit also on original data and another on weighted data with true ratios\n"
   ]
  },
  {
   "cell_type": "code",
   "execution_count": 344,
   "metadata": {
    "collapsed": false
   },
   "outputs": [
    {
     "data": {
      "text/plain": [
       "[]"
      ]
     },
     "execution_count": 344,
     "metadata": {},
     "output_type": "execute_result"
    },
    {
     "data": {
      "image/png": "[encoded data removed]",
      "text/plain": [
       "<matplotlib.figure.Figure at 0x13f26950>"
      ]
     },
     "metadata": {},
     "output_type": "display_data"
    }
   ],
   "source": [
    "fpr_clf, tpr_clf, _  = roc_curve(targetdata.ravel(),predictions_weighted_clf.ravel())\n",
    "roc_auc_clf = auc(fpr_clf, tpr_clf)\n",
    "fpr_true, tpr_true, _  = roc_curve(targetdata.ravel(),predictions_weighted_true.ravel())\n",
    "roc_auc_true = auc(fpr_true, tpr_true)\n",
    "fpr, tpr, _  = roc_curve(targetdata.ravel(),predictions.ravel())\n",
    "roc_auc = auc(fpr, tpr)\n",
    "fig = plt.figure()\n",
    "plt.plot(fpr_clf, tpr_clf, label='ROC curve weighted app(area = %0.2f)' % roc_auc_clf)\n",
    "plt.plot(fpr_true, tpr_true, label='ROC curve weighted true (area = %0.2f)' % roc_auc_true)\n",
    "plt.plot(fpr, tpr, label='ROC curve f1(area = %0.2f)' % roc_auc)\n",
    "plt.plot([0, 1], [0, 1], 'k--')\n",
    "plt.xlim([0.0, 1.0])\n",
    "plt.ylim([0.0, 1.05])\n",
    "plt.xlabel('False Positive Rate')\n",
    "plt.ylabel('True Positive Rate')\n",
    "plt.title('{0} n_epochs {1}'.format('ROC',epochs_training))\n",
    "plt.legend(loc=\"lower right\")\n",
    "plt.savefig('{0}/plots/{1}/{2}_{3}.png'.format(dir,model_g,'roc_eval',epochs_training))\n",
    "\n",
    "plt.plot()"
   ]
  },
  {
   "cell_type": "code",
   "execution_count": null,
   "metadata": {
    "collapsed": true
   },
   "outputs": [],
   "source": []
  }
 ],
 "metadata": {
  "kernelspec": {
   "display_name": "Python 2",
   "language": "python",
   "name": "python2"
  },
  "language_info": {
   "codemirror_mode": {
    "name": "ipython",
    "version": 2
   },
   "file_extension": ".py",
   "mimetype": "text/x-python",
   "name": "python",
   "nbconvert_exporter": "python",
   "pygments_lexer": "ipython2",
   "version": "2.7.5"
  }
 },
 "nbformat": 4,
 "nbformat_minor": 0
}
