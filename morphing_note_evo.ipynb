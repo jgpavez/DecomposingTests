{
 "cells": [
  {
   "cell_type": "markdown",
   "metadata": {},
   "source": [
    "# Distributed Evolutionary Morphing\n",
    "\n",
    "In this notebook I will show how to do *distributed evolutionary morphing* using 2 orthogonal bases on coupling coefficients for VBF data.\n",
    "\n",
    "To choose the two bases used in the morphing an evolutionary algorithm implemented with *deap* is used. The algorithms works as follow:\n",
    "\n",
    " 1. Start with a population of 50 pairs of bases choosed randomly between 64x64 points in the range (-0.5, 0.5). The bases are represented as a vector of 1 and 0 of size 64x2 where the positions of 1 represent the samples used in each base. \n",
    " 2. In each iteration the evolutionary algorithm follows the next steps:\n",
    "   1. With *cxpb* probability apply a cross-over opertor which combine two pairs of bases by taking a randomly choosed slice from on of the pairs and swap it with a slice in the other pair. After that the pairs must be fixed in order to keep only 15 samples choosed for each base.\n",
    "   2. With *mutpb* probability apply a mutation opertor which mutate a pair of bases by swaping a randomly choosed 1 and 0 between both samples in the pair and also swap a unused sample in the pair for a used sample.\n",
    "   3. Choose the best samples in the population and keep it for the next iteration using random tournament. The samples are evaluating using a fitness defined as $\\sum_{(c1,c2)\\in C1XC2} (n\\_eff\\_1(c1,c2) + n\\_eff\\_2(c1,c2))$ where $n\\_eff\\_i(c1,c2)$ are the values of the **n_eff** ratio for the base i and evaluated in the point c1,c2 of the parameter space. Also, if any of the points evaluated in the previous sum have a **condition number** too small then a value of 0 is returned.. \n",
    "   4. Save the best pair in the population.\n",
    "   5. Continue until *ngen* iteration are done.\n",
    " 3. Finally the best pair of bases is used in the morphing as a weighted sum.\n",
    " \n",
    "It should be noted that *deap* allows to distributed evolutionary algorithms (not shown in this notebook) something that speed up the run a lot.\n",
    "\n",
    "I will show how to use the class implemented to do the **evolutionary morphing**, this code makes use of the EFT Morphing code. A python Wrapper for this code have been implemented.\n"
   ]
  },
  {
   "cell_type": "code",
   "execution_count": 1,
   "metadata": {
    "collapsed": false
   },
   "outputs": [],
   "source": [
    "\n",
    "import numpy as np\n",
    "import pdb \n",
    "from pyMorphWrapper import MorphingWrapper"
   ]
  },
  {
   "cell_type": "code",
   "execution_count": 2,
   "metadata": {
    "collapsed": false
   },
   "outputs": [],
   "source": [
    "%matplotlib inline\n",
    "%load_ext autoreload\n",
    "%autoreload 2"
   ]
  },
  {
   "cell_type": "markdown",
   "metadata": {},
   "source": [
    "We start by defining some constants:\n",
    "- The fitting range\n",
    "- The number of points in the coupling space to be used in the fit\n",
    "- The available samples"
   ]
  },
  {
   "cell_type": "code",
   "execution_count": 3,
   "metadata": {
    "collapsed": false
   },
   "outputs": [
    {
     "name": "stdout",
     "output_type": "stream",
     "text": [
      "[[1.0, -0.5, -0.5], [1.0, -0.5, -0.35714285714285715], [1.0, -0.5, -0.2142857142857143], [1.0, -0.5, -0.071428571428571452], [1.0, -0.5, 0.071428571428571397], [1.0, -0.5, 0.21428571428571419], [1.0, -0.5, 0.3571428571428571], [1.0, -0.5, 0.5], [1.0, -0.35714285714285715, -0.5], [1.0, -0.35714285714285715, -0.35714285714285715], [1.0, -0.35714285714285715, -0.2142857142857143], [1.0, -0.35714285714285715, -0.071428571428571452], [1.0, -0.35714285714285715, 0.071428571428571397], [1.0, -0.35714285714285715, 0.21428571428571419], [1.0, -0.35714285714285715, 0.3571428571428571], [1.0, -0.35714285714285715, 0.5], [1.0, -0.2142857142857143, -0.5], [1.0, -0.2142857142857143, -0.35714285714285715], [1.0, -0.2142857142857143, -0.2142857142857143], [1.0, -0.2142857142857143, -0.071428571428571452], [1.0, -0.2142857142857143, 0.071428571428571397], [1.0, -0.2142857142857143, 0.21428571428571419], [1.0, -0.2142857142857143, 0.3571428571428571], [1.0, -0.2142857142857143, 0.5], [1.0, -0.071428571428571452, -0.5], [1.0, -0.071428571428571452, -0.35714285714285715], [1.0, -0.071428571428571452, -0.2142857142857143], [1.0, -0.071428571428571452, -0.071428571428571452], [1.0, -0.071428571428571452, 0.071428571428571397], [1.0, -0.071428571428571452, 0.21428571428571419], [1.0, -0.071428571428571452, 0.3571428571428571], [1.0, -0.071428571428571452, 0.5], [1.0, 0.071428571428571397, -0.5], [1.0, 0.071428571428571397, -0.35714285714285715], [1.0, 0.071428571428571397, -0.2142857142857143], [1.0, 0.071428571428571397, -0.071428571428571452], [1.0, 0.071428571428571397, 0.071428571428571397], [1.0, 0.071428571428571397, 0.21428571428571419], [1.0, 0.071428571428571397, 0.3571428571428571], [1.0, 0.071428571428571397, 0.5], [1.0, 0.21428571428571419, -0.5], [1.0, 0.21428571428571419, -0.35714285714285715], [1.0, 0.21428571428571419, -0.2142857142857143], [1.0, 0.21428571428571419, -0.071428571428571452], [1.0, 0.21428571428571419, 0.071428571428571397], [1.0, 0.21428571428571419, 0.21428571428571419], [1.0, 0.21428571428571419, 0.3571428571428571], [1.0, 0.21428571428571419, 0.5], [1.0, 0.3571428571428571, -0.5], [1.0, 0.3571428571428571, -0.35714285714285715], [1.0, 0.3571428571428571, -0.2142857142857143], [1.0, 0.3571428571428571, -0.071428571428571452], [1.0, 0.3571428571428571, 0.071428571428571397], [1.0, 0.3571428571428571, 0.21428571428571419], [1.0, 0.3571428571428571, 0.3571428571428571], [1.0, 0.3571428571428571, 0.5], [1.0, 0.5, -0.5], [1.0, 0.5, -0.35714285714285715], [1.0, 0.5, -0.2142857142857143], [1.0, 0.5, -0.071428571428571452], [1.0, 0.5, 0.071428571428571397], [1.0, 0.5, 0.21428571428571419], [1.0, 0.5, 0.3571428571428571], [1.0, 0.5, 0.5]]\n"
     ]
    }
   ],
   "source": [
    "# Define fitting ranges\n",
    "g1_range = (-0.3557,0.2646)\n",
    "g2_range = (-0.34467,0.34467)\n",
    "\n",
    "# Points where to evaluate the n_eff of the bases\n",
    "npoints = 15\n",
    "\n",
    "nsamples = 15\n",
    "ncomb = 18\n",
    "csarray1 = np.linspace(g1_range[0],g1_range[1],npoints)\n",
    "csarray2 = np.linspace(g2_range[0], g2_range[1], npoints)\n",
    "\n",
    "# List of availables basis samples\n",
    "# Samples used in the evolutionary algorithm\n",
    "available_samples = [[1.0,cs1,cs2] for cs1 in np.linspace(-0.5,0.5,8) for cs2 in np.linspace(-0.5,0.5,8)]\n",
    "print available_samples"
   ]
  },
  {
   "cell_type": "markdown",
   "metadata": {},
   "source": [
    "Now we use the morphing class and set the data used in the morphing."
   ]
  },
  {
   "cell_type": "code",
   "execution_count": 4,
   "metadata": {
    "collapsed": false
   },
   "outputs": [],
   "source": [
    "from pyMorphWrapper import MorphingWrapper\n",
    "# Compute both bases\n",
    "np.random.seed(1234)\n",
    "morph = MorphingWrapper()\n",
    "# Define number of samples, number of couplings, types (S,P,D) and available samples\n",
    "# Using half of range as initial target (used only to make computation faster)\n",
    "target = [1.,1.,1.]\n",
    "morph.setSampleData(nsamples=nsamples,ncouplings=3,types=['S','S','S'],samples=available_samples,\n",
    "      ncomb=ncomb)"
   ]
  },
  {
   "cell_type": "code",
   "execution_count": null,
   "metadata": {
    "collapsed": true
   },
   "outputs": [],
   "source": [
    "indexes = morph.evolMorphing(cvalues_1 = csarray1,cvalues_2 = csarray2)"
   ]
  },
  {
   "cell_type": "code",
   "execution_count": null,
   "metadata": {
    "collapsed": false
   },
   "outputs": [],
   "source": [
    "# Obtain the bases by using smooth dynamic morphing\n",
    "#indexes = morph.dynamicMorphing(cvalues_1 = csarray1,cvalues_2 = csarray2)"
   ]
  },
  {
   "cell_type": "code",
   "execution_count": 5,
   "metadata": {
    "collapsed": false
   },
   "outputs": [
    {
     "name": "stdout",
     "output_type": "stream",
     "text": [
      "[[1.0, -0.5, -0.5], [1.0, -0.5, 0.5], [1.0, -0.35714285714285715, -0.071428571428571452], [1.0, -0.35714285714285715, 0.21428571428571419], [1.0, -0.2142857142857143, -0.2142857142857143], [1.0, -0.2142857142857143, 0.071428571428571397], [1.0, -0.2142857142857143, 0.3571428571428571], [1.0, -0.071428571428571452, -0.35714285714285715], [1.0, -0.071428571428571452, -0.071428571428571452], [1.0, -0.071428571428571452, 0.21428571428571419], [1.0, 0.21428571428571419, -0.2142857142857143], [1.0, 0.21428571428571419, 0.071428571428571397], [1.0, 0.5, 0.5], [1.0, 0.5, -0.071428571428571452], [1.0, 0.5, 0.21428571428571419]]\n",
      "[[1.0, -0.5, -0.35714285714285715], [1.0, -0.5, -0.071428571428571452], [1.0, -0.5, 0.3571428571428571], [1.0, -0.2142857142857143, -0.071428571428571452], [1.0, -0.2142857142857143, 0.21428571428571419], [1.0, -0.2142857142857143, 0.5], [1.0, -0.071428571428571452, -0.5], [1.0, -0.071428571428571452, -0.2142857142857143], [1.0, -0.071428571428571452, 0.071428571428571397], [1.0, 0.071428571428571397, -0.071428571428571452], [1.0, 0.071428571428571397, 0.3571428571428571], [1.0, 0.21428571428571419, -0.35714285714285715], [1.0, 0.21428571428571419, 0.21428571428571419], [1.0, 0.5, -0.2142857142857143], [1.0, 0.5, 0.5]]\n"
     ]
    }
   ],
   "source": [
    "#print indexes\n",
    "#print available_samples\n",
    "# Best pair found using 11x11 samples and 2500 iterations in the evolutionary algorithm\n",
    "indexes = [[0, 7, 11, 13, 18, 20, 22, 25, 27, 29, 42, 44, 63, 59, 61], [1, 3, 6, 19, 21, 23, 24, 26, 28, 35, 38, 41, 45, 58, 63]]\n",
    "# 0.88, 8\n",
    "\n",
    "#b1: [[1.0, -0.5, -0.5], [1.0, -0.5, 0.5], [1.0, -0.35714285714285715, -0.071428571428571452], [1.0, -0.35714285714285715, 0.21428571428571419], [1.0, -0.2142857142857143, -0.2142857142857143], [1.0, -0.2142857142857143, 0.071428571428571397], [1.0, -0.2142857142857143, 0.3571428571428571], [1.0, -0.071428571428571452, -0.35714285714285715], [1.0, -0.071428571428571452, -0.071428571428571452], [1.0, -0.071428571428571452, 0.21428571428571419], [1.0, 0.21428571428571419, -0.2142857142857143], [1.0, 0.21428571428571419, 0.071428571428571397], [1.0, 0.3571428571428571, 0.5], [1.0, 0.5, -0.071428571428571452], [1.0, 0.5, 0.21428571428571419]]\n",
    "#b2: [[1.0, -0.5, -0.35714285714285715], [1.0, -0.5, -0.071428571428571452], [1.0, -0.5, 0.3571428571428571], [1.0, -0.2142857142857143, -0.071428571428571452], [1.0, -0.2142857142857143, 0.21428571428571419], [1.0, -0.2142857142857143, 0.5], [1.0, -0.071428571428571452, -0.5], [1.0, -0.071428571428571452, -0.2142857142857143], [1.0, -0.071428571428571452, 0.071428571428571397], [1.0, 0.071428571428571397, -0.071428571428571452], [1.0, 0.071428571428571397, 0.3571428571428571], [1.0, 0.21428571428571419, -0.35714285714285715], [1.0, 0.21428571428571419, 0.21428571428571419], [1.0, 0.5, -0.2142857142857143], [1.0, 0.5, 0.5]]\n",
    "print([available_samples[int(k)] for k in indexes[0]])\n",
    "print([available_samples[int(k)] for k in indexes[1]])"
   ]
  },
  {
   "cell_type": "markdown",
   "metadata": {
    "collapsed": true
   },
   "source": [
    "Next we obtain the cross sections and weights for each one of the orthogonal bases and for each point on the parameter space."
   ]
  },
  {
   "cell_type": "code",
   "execution_count": 8,
   "metadata": {
    "collapsed": false
   },
   "outputs": [],
   "source": [
    "# Save cross sections and couplings for each one of the points on the fitting space\n",
    "# Also compute the weighted n_eff\n",
    "npoints = 50\n",
    "csarray1 = np.linspace(g1_range[0],g1_range[1],npoints)\n",
    "csarray2 = np.linspace(g2_range[0], g2_range[1], npoints)\n",
    "n_effs_1 = np.zeros((csarray1.shape[0], csarray2.shape[0]))\n",
    "all_couplings = np.zeros((2,npoints,npoints))\n",
    "for l,ind in enumerate(indexes): \n",
    "    ind = np.array(ind)\n",
    "    morph.resetBasis([available_samples[int(k)] for k in ind]) \n",
    "    sorted_indexes = np.argsort(ind)\n",
    "    indexes[l] = ind[sorted_indexes]\n",
    "    for i,cs in enumerate(csarray1):\n",
    "        for j,cs2 in enumerate(csarray2):\n",
    "            target[1] = cs\n",
    "            target[2] = cs2 \n",
    "            morph.resetTarget(target)\n",
    "            # Compute weights and cross section of each sample\n",
    "            couplings = np.array(morph.getWeights())\n",
    "            cross_section = np.array(morph.getCrossSections())\n",
    "            \n",
    "            couplings,cross_section = (couplings[sorted_indexes],\n",
    "                        cross_section[sorted_indexes])\n",
    "            # Save list of cross sections and weights for each samples and orthogonal bases\n",
    "            all_couplings = np.vstack([all_couplings,couplings])  if i <> 0 or j <> 0 or l <> 0 else couplings\n",
    "            \n",
    "            all_cross_sections = np.vstack([all_cross_sections, cross_section]) if i <> 0 or j <> 0 or l <> 0 else cross_section"
   ]
  },
  {
   "cell_type": "code",
   "execution_count": 10,
   "metadata": {
    "collapsed": false
   },
   "outputs": [
    {
     "name": "stdout",
     "output_type": "stream",
     "text": [
      "0.999998441464\n",
      "0.999998964583\n",
      "0.999998971735\n",
      "0.999999294198\n",
      "0.999999821864\n",
      "0.999999875713\n",
      "0.999999551737\n",
      "0.999999566913\n",
      "0.999999940493\n",
      "0.999999905072\n",
      "0.999999842379\n",
      "0.99999996441\n",
      "0.999999756477\n",
      "0.999999764532\n",
      "0.999999542104\n",
      "0.999999351967\n",
      "0.999999565048\n",
      "0.999999834198\n",
      "0.999999733914\n",
      "0.999999582687\n",
      "0.999999769977\n",
      "0.999999700578\n",
      "0.999999799295\n",
      "0.999999964358\n",
      "0.99999992322\n",
      "0.99999960287\n",
      "0.999999611938\n",
      "0.999999888514\n",
      "0.999999433898\n",
      "0.999999656802\n"
     ]
    }
   ],
   "source": [
    "for l,ind in enumerate(indexes): \n",
    "    ind = np.array(ind)\n",
    "    morph.resetBasis([available_samples[int(k)] for k in ind]) \n",
    "    sorted_indexes = np.argsort(ind)\n",
    "    indexes[l] = ind[sorted_indexes]\n",
    "    for sample in [available_samples[int(k)] for k in indexes[l]]:\n",
    "        #print sample\n",
    "        target[1] = sample[1]\n",
    "        target[2] = sample[2]\n",
    "        morph.resetTarget(target)\n",
    "        # Compute weights and cross section of each sample\n",
    "        couplings = np.array(morph.getWeights())\n",
    "        cross_section = np.array(morph.getCrossSections())\n",
    "        c1s_1 = couplings\n",
    "        cross_section_1 = cross_section\n",
    "        c1s_1 = np.multiply(c1s_1,cross_section_1)\n",
    "        n_eff = c1s_1.sum()\n",
    "        n_tot = np.abs(c1s_1).sum()\n",
    "        n_eff_1 = n_eff / n_tot\n",
    "        print n_eff_1\n",
    "        # Compute Bkg weights\n",
    "        #n_effs_1[i,j] = n_eff_1\n",
    "\n"
   ]
  },
  {
   "cell_type": "markdown",
   "metadata": {},
   "source": [
    "Finally, we compute the weighted n_eff for each point in the parameter space"
   ]
  },
  {
   "cell_type": "code",
   "execution_count": 17,
   "metadata": {
    "collapsed": false
   },
   "outputs": [
    {
     "name": "stdout",
     "output_type": "stream",
     "text": [
      "(50,)\n"
     ]
    }
   ],
   "source": [
    "# Now compute and plot the weighted n_eff in order to evaluate the models\n",
    "alpha = np.zeros([csarray1.shape[0],csarray2.shape[0],2])\n",
    "n_eff_ratio = np.zeros((csarray1.shape[0], csarray2.shape[0]))\n",
    "print csarray1.shape\n",
    "for i,cs in enumerate(csarray1):\n",
    "    for j, cs2 in enumerate(csarray2):\n",
    "        target[1] = cs\n",
    "        target[2] = cs2\n",
    "        #print '{0} {1}'.format(i,j)\n",
    "        #print target\n",
    "\n",
    "        c1s_1 = all_couplings[i*npoints + j]\n",
    "        cross_section_1 = all_cross_sections[i*npoints + j]\n",
    "        c1s_1 = np.multiply(c1s_1,cross_section_1)\n",
    "        n_eff = c1s_1.sum()\n",
    "        n_tot = np.abs(c1s_1).sum()\n",
    "        n_eff_1 = n_eff / n_tot\n",
    "\n",
    "        c1s_2 = all_couplings[npoints*npoints + i*npoints + j]\n",
    "        cross_section_2 = all_cross_sections[npoints*npoints + i*npoints + j]\n",
    "        c1s_2 = np.multiply(c1s_2,cross_section_2)\n",
    "        n_eff = c1s_2.sum()\n",
    "        n_tot = np.abs(c1s_2).sum()\n",
    "        n_eff_2 = n_eff / n_tot\n",
    "\n",
    "        # Compute weights for bases\n",
    "        neff2 = 1./n_eff_2\n",
    "        neff1 = 1./n_eff_1\n",
    "        alpha1 = np.exp(-np.sqrt(neff1))\n",
    "        alpha2 = np.exp(-np.sqrt(neff2))\n",
    "        alpha[i,j,0] = alpha1/(alpha1 + alpha2)\n",
    "        alpha[i,j,1] = alpha2/(alpha1 + alpha2)\n",
    "\n",
    "        # Compute Bkg weights\n",
    "        #n_eff_ratio[i,j] = alpha[i,j,0]*n_eff_1 + alpha[i,j,1]*n_eff_2\n",
    "        n_eff_ratio[i,j] = n_eff_1\n",
    "\n",
    "        #print 'Weighted eff for ({0},{1}): {2}'.format(cs,cs2,n_eff_ratio[i,j])"
   ]
  },
  {
   "cell_type": "code",
   "execution_count": 18,
   "metadata": {
    "collapsed": false
   },
   "outputs": [
    {
     "name": "stdout",
     "output_type": "stream",
     "text": [
      "[[ 0.39922889  0.35547358  0.32556231  0.30474814  0.28507804]\n",
      " [ 0.43674534  0.40203738  0.36325419  0.33674679  0.31871256]\n",
      " [ 0.40462808  0.44510118  0.40936357  0.37502625  0.35181357]\n",
      " [ 0.37114448  0.42296742  0.45834812  0.42163131  0.39146959]\n",
      " [ 0.34682681  0.39108664  0.44557934  0.47569424  0.439626  ]]\n"
     ]
    }
   ],
   "source": [
    "print n_eff_ratio[0:5,0:5]"
   ]
  },
  {
   "cell_type": "code",
   "execution_count": 26,
   "metadata": {
    "collapsed": false
   },
   "outputs": [
    {
     "name": "stdout",
     "output_type": "stream",
     "text": [
      "[1.0, 0.21428571428571419, -0.2142857142857143]\n",
      "Sample : 0.214285714286,-0.214285714286\n",
      "Closer point: 0.213963265306,-0.218056530612\n",
      "Position 45 9\n",
      "N_Eff: 0.889870616677\n"
     ]
    }
   ],
   "source": [
    "#print([available_samples[int(k)] for k in indexes[0]])\n",
    "morph.resetBasis([available_samples[int(k)] for k in indexes[0]]) \n",
    "sample_id = 10\n",
    "val = available_samples[indexes[0][sample_id]]\n",
    "print val\n",
    "target = val\n",
    "morph.resetTarget(target)\n",
    "# Compute weights and cross section of each sample\n",
    "couplings = np.array(morph.getWeights())\n",
    "cross_section = np.array(morph.getCrossSections())\n",
    "\n",
    "# Compute Cross section for the closer point to val\n",
    "c1s_1 = couplings\n",
    "cross_section_1 = cross_section\n",
    "c1s_1 = np.multiply(c1s_1,cross_section_1)\n",
    "n_eff = c1s_1.sum()\n",
    "n_tot = np.abs(c1s_1).sum()\n",
    "n_eff_1 = n_eff / n_tot\n",
    "\n",
    "points_2d = np.array([(cs1,cs2) for cs1 in csarray1 for cs2 in csarray2])\n",
    "\n",
    "min_x = np.sqrt(np.sum((points_2d - target[1:])**2,axis=1)).argmin()\n",
    "\n",
    "posx,posy = min_x // npoints, min_x % npoints\n",
    "print 'Sample {0}: {1},{2}'.format(sample_id,target[1],target[2])\n",
    "print 'Closer point: {0},{1}'.format(csarray1[posx],csarray2[posy])\n",
    "print 'Position {0} {1}'.format(posx,posy)\n",
    "print 'N_Eff: {0}'.format(n_eff_ratio[posx,posy])\n"
   ]
  },
  {
   "cell_type": "code",
   "execution_count": 25,
   "metadata": {
    "collapsed": false
   },
   "outputs": [
    {
     "name": "stdout",
     "output_type": "stream",
     "text": [
      "-0.3557 0.2646 -0.34467 0.34467\n"
     ]
    },
    {
     "data": {
      "image/png": "[encoded data removed]",
      "text/plain": [
       "<matplotlib.figure.Figure at 0x3474410>"
      ]
     },
     "metadata": {},
     "output_type": "display_data"
    }
   ],
   "source": [
    "import matplotlib.pyplot as plt\n",
    "import matplotlib.cm as cm\n",
    "\n",
    "fig,ax = plt.subplots()\n",
    "    \n",
    "A = [available_samples[ind][1] for ind in indexes[0]]\n",
    "B = [available_samples[ind][2] for ind in indexes[0]]\n",
    "A2 = [available_samples[ind][1] for ind in indexes[1]]\n",
    "B2 = [available_samples[ind][2] for ind in indexes[1]]\n",
    "\n",
    "ax.set_title('Samples position')\n",
    "ax.set_xlabel('Kazz')\n",
    "ax.set_ylabel('Khzz')    \n",
    "    \n",
    "vals = np.flipud(n_eff_ratio)\n",
    "print g1_range[0],g1_range[1],g2_range[0],g2_range[1]\n",
    "im = ax.imshow(vals, extent=[g1_range[0],g1_range[1],g2_range[0],g2_range[1]])\n",
    "ax.autoscale(False)\n",
    "plt.colorbar(im,ax=ax)\n",
    "plt.scatter(B,A,c='r')\n",
    "#plt.scatter(B2,A2,c='b')\n",
    "for k,xy in enumerate(zip(B, A)):                                               \n",
    "    ax.annotate('({0},{1:.2f},{2:.2f})'.format(k,xy[1],xy[0]), xy=xy, textcoords='offset points') \n",
    "#for k,xy in enumerate(zip(B2, A2)):                                               \n",
    "#    ax.annotate('({0},{1:.2f},{2:.2f})'.format(k,xy[0],xy[1]), xy=xy, textcoords='offset points') \n",
    "my_dpi=96\n",
    "plt.savefig('morph/evmorph_khzz_kazz_8_05_05_50_b2.pdf')"
   ]
  },
  {
   "cell_type": "code",
   "execution_count": null,
   "metadata": {
    "collapsed": true
   },
   "outputs": [],
   "source": []
  }
 ],
 "metadata": {
  "kernelspec": {
   "display_name": "Python 2",
   "language": "python",
   "name": "python2"
  },
  "language_info": {
   "codemirror_mode": {
    "name": "ipython",
    "version": 2
   },
   "file_extension": ".py",
   "mimetype": "text/x-python",
   "name": "python",
   "nbconvert_exporter": "python",
   "pygments_lexer": "ipython2",
   "version": "2.7.5"
  }
 },
 "nbformat": 4,
 "nbformat_minor": 0
}
